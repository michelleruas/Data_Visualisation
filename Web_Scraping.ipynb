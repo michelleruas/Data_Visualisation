{
  "nbformat": 4,
  "nbformat_minor": 0,
  "metadata": {
    "colab": {
      "name": "Web Scraping.ipynb",
      "provenance": [],
      "authorship_tag": "ABX9TyMy/I6NNQfnlvkNukqhMv0x",
      "include_colab_link": true
    },
    "kernelspec": {
      "name": "python3",
      "display_name": "Python 3"
    }
  },
  "cells": [
    {
      "cell_type": "markdown",
      "metadata": {
        "id": "view-in-github",
        "colab_type": "text"
      },
      "source": [
        "<a href=\"https://colab.research.google.com/github/michelleruas/Data_Visualisation/blob/master/Web_Scraping.ipynb\" target=\"_parent\"><img src=\"https://colab.research.google.com/assets/colab-badge.svg\" alt=\"Open In Colab\"/></a>"
      ]
    },
    {
      "cell_type": "markdown",
      "metadata": {
        "id": "o3afQDgvl4Yf"
      },
      "source": [
        "## Web Scraping"
      ]
    },
    {
      "cell_type": "code",
      "metadata": {
        "id": "XBrcCR_clA-Q"
      },
      "source": [
        "url = 'https://www.basketball-reference.com/leagues/NBA_2019_per_game.html'"
      ],
      "execution_count": 5,
      "outputs": []
    },
    {
      "cell_type": "code",
      "metadata": {
        "id": "mhjm5u55miOL"
      },
      "source": [
        "import pandas as pd"
      ],
      "execution_count": 6,
      "outputs": []
    },
    {
      "cell_type": "code",
      "metadata": {
        "id": "3FM1bNhvmrxF",
        "outputId": "401589ed-def2-4548-cbfb-34fef5e2e825",
        "colab": {
          "base_uri": "https://localhost:8080/",
          "height": 255
        }
      },
      "source": [
        "df = pd.read_html(url, header = 0)\n",
        "df"
      ],
      "execution_count": 7,
      "outputs": [
        {
          "output_type": "execute_result",
          "data": {
            "text/plain": [
              "[      Rk        Player Pos Age   Tm   G  GS  ...  TRB  AST  STL  BLK  TOV   PF   PTS\n",
              " 0      1  Álex Abrines  SG  25  OKC  31   2  ...  1.5  0.6  0.5  0.2  0.5  1.7   5.3\n",
              " 1      2    Quincy Acy  PF  28  PHO  10   0  ...  2.5  0.8  0.1  0.4  0.4  2.4   1.7\n",
              " 2      3  Jaylen Adams  PG  22  ATL  34   1  ...  1.8  1.9  0.4  0.1  0.8  1.3   3.2\n",
              " 3      4  Steven Adams   C  25  OKC  80  80  ...  9.5  1.6  1.5  1.0  1.7  2.6  13.9\n",
              " 4      5   Bam Adebayo   C  21  MIA  82  28  ...  7.3  2.2  0.9  0.8  1.5  2.5   8.9\n",
              " ..   ...           ...  ..  ..  ...  ..  ..  ...  ...  ...  ...  ...  ...  ...   ...\n",
              " 729  528  Tyler Zeller   C  29  MEM   4   1  ...  4.5  0.8  0.3  0.8  1.0  4.0  11.5\n",
              " 730  529    Ante Žižić   C  22  CLE  59  25  ...  5.4  0.9  0.2  0.4  1.0  1.9   7.8\n",
              " 731  530   Ivica Zubac   C  21  TOT  59  37  ...  6.1  1.1  0.2  0.9  1.2  2.3   8.9\n",
              " 732  530   Ivica Zubac   C  21  LAL  33  12  ...  4.9  0.8  0.1  0.8  1.0  2.2   8.5\n",
              " 733  530   Ivica Zubac   C  21  LAC  26  25  ...  7.7  1.5  0.4  0.9  1.4  2.5   9.4\n",
              " \n",
              " [734 rows x 30 columns]]"
            ]
          },
          "metadata": {
            "tags": []
          },
          "execution_count": 7
        }
      ]
    },
    {
      "cell_type": "code",
      "metadata": {
        "id": "WIRQu5iBmxAc",
        "outputId": "3863751c-05b8-49bd-8560-45abb893ed9d",
        "colab": {
          "base_uri": "https://localhost:8080/",
          "height": 34
        }
      },
      "source": [
        "len(df)"
      ],
      "execution_count": 8,
      "outputs": [
        {
          "output_type": "execute_result",
          "data": {
            "text/plain": [
              "1"
            ]
          },
          "metadata": {
            "tags": []
          },
          "execution_count": 8
        }
      ]
    },
    {
      "cell_type": "code",
      "metadata": {
        "id": "XAMTDbfvm54I"
      },
      "source": [
        ""
      ],
      "execution_count": null,
      "outputs": []
    }
  ]
}